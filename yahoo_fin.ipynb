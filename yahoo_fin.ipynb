{
 "cells": [
  {
   "cell_type": "code",
   "execution_count": 5,
   "metadata": {},
   "outputs": [],
   "source": [
    "from yahoo_fin.stock_info import get_data"
   ]
  },
  {
   "cell_type": "code",
   "execution_count": 7,
   "metadata": {},
   "outputs": [
    {
     "name": "stdout",
     "output_type": "stream",
     "text": [
      "                    open          high           low         close  \\\n",
      "2014-09-17    465.864014    468.174011    452.421997    457.334015   \n",
      "2014-09-18    456.859985    456.859985    413.104004    424.440002   \n",
      "2014-09-19    424.102997    427.834991    384.532013    394.795990   \n",
      "2014-09-20    394.673004    423.295990    389.882996    408.903992   \n",
      "2014-09-21    408.084991    412.425995    393.181000    398.821014   \n",
      "...                  ...           ...           ...           ...   \n",
      "2021-12-21  46886.078125  49300.917969  46698.773438  48936.613281   \n",
      "2021-12-22  48937.097656  49544.796875  48450.941406  48628.511719   \n",
      "2021-12-23  48626.343750  51332.339844  48065.835938  50784.539062   \n",
      "2021-12-24  50806.050781  51814.027344  50514.496094  50822.195312   \n",
      "2021-12-25  50738.660156  51176.597656  50334.722656  50893.097656   \n",
      "\n",
      "                adjclose       volume   ticker  \n",
      "2014-09-17    457.334015     21056800  BTC-USD  \n",
      "2014-09-18    424.440002     34483200  BTC-USD  \n",
      "2014-09-19    394.795990     37919700  BTC-USD  \n",
      "2014-09-20    408.903992     36863600  BTC-USD  \n",
      "2014-09-21    398.821014     26580100  BTC-USD  \n",
      "...                  ...          ...      ...  \n",
      "2021-12-21  48936.613281  27055803928  BTC-USD  \n",
      "2021-12-22  48628.511719  24447979559  BTC-USD  \n",
      "2021-12-23  50784.539062  28223878108  BTC-USD  \n",
      "2021-12-24  50822.195312  24367912228  BTC-USD  \n",
      "2021-12-25  50893.097656  19643265024  BTC-USD  \n",
      "\n",
      "[2657 rows x 7 columns] <class 'pandas.core.frame.DataFrame'>\n"
     ]
    }
   ],
   "source": [
    "btcusdDaily= get_data(\"BTC-USD\", start_date=None, end_date=None, index_as_date = True, interval=\"1d\")\n",
    "print(btcusdDaily, type(btcusdDaily))"
   ]
  },
  {
   "cell_type": "code",
   "execution_count": null,
   "metadata": {},
   "outputs": [],
   "source": []
  }
 ],
 "metadata": {
  "interpreter": {
   "hash": "916dbcbb3f70747c44a77c7bcd40155683ae19c65e1c03b4aa3499c5328201f1"
  },
  "kernelspec": {
   "display_name": "Python 3.9.7 64-bit",
   "language": "python",
   "name": "python3"
  },
  "language_info": {
   "codemirror_mode": {
    "name": "ipython",
    "version": 3
   },
   "file_extension": ".py",
   "mimetype": "text/x-python",
   "name": "python",
   "nbconvert_exporter": "python",
   "pygments_lexer": "ipython3",
   "version": "3.9.7"
  },
  "orig_nbformat": 4
 },
 "nbformat": 4,
 "nbformat_minor": 2
}
