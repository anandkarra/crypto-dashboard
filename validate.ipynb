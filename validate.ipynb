{
 "cells": [
  {
   "cell_type": "code",
   "execution_count": 37,
   "metadata": {},
   "outputs": [],
   "source": [
    "import pandas as pd\n",
    "import numpy as np\n",
    "from calendar import monthrange\n",
    "\n",
    "import utils"
   ]
  },
  {
   "cell_type": "code",
   "execution_count": 38,
   "metadata": {},
   "outputs": [
    {
     "name": "stdout",
     "output_type": "stream",
     "text": [
      "    open-time     close\n",
      "0  1609459200  29331.69\n",
      "1  1609545600  32178.33\n",
      "2  1609632000  33000.05\n",
      "3  1609718400  31988.71\n",
      "4  1609804800  33949.53\n"
     ]
    }
   ],
   "source": [
    "dataDir = 'data'\n",
    "filename = 'BTCUSDT-1d-2021-01.csv'\n",
    "dataFilepath = dataDir + \"/\" + filename\n",
    "\n",
    "df = pd.read_csv (dataFilepath, header=None)\n",
    "\n",
    "df.drop(df.columns[[1,2,3,5,6,7,8,9,10,11]], axis = 1, inplace = True)\n",
    "\n",
    "df.columns = [\"open-time\", \"close\"]\n",
    "\n",
    "df[\"open-time\"] //= 1000\n",
    "\n",
    "print(df.head())"
   ]
  },
  {
   "cell_type": "code",
   "execution_count": 39,
   "metadata": {},
   "outputs": [
    {
     "name": "stdout",
     "output_type": "stream",
     "text": [
      "['2021', '01'] <class 'list'>\n"
     ]
    }
   ],
   "source": [
    "yearMonth = filename.split(\".\")[0]\n",
    "yearMonth = yearMonth.split(\"-\")\n",
    "yearMonth = yearMonth[-2:]\n",
    "\n",
    "print(yearMonth, type(yearMonth))"
   ]
  },
  {
   "cell_type": "code",
   "execution_count": 40,
   "metadata": {},
   "outputs": [
    {
     "name": "stdout",
     "output_type": "stream",
     "text": [
      "31 <class 'int'>\n",
      "['2021', '01', '31'] <class 'list'>\n",
      "['2021', '01'] <class 'list'>\n"
     ]
    }
   ],
   "source": [
    "numDaysInMonth = monthrange(int(yearMonth[0]), int(yearMonth[1]))\n",
    "print(numDaysInMonth[1], type(numDaysInMonth[1]))\n",
    "\n",
    "yearMonthDay = yearMonth[:]\n",
    "yearMonthDay.append(str(numDaysInMonth[1]))\n",
    "\n",
    "print(yearMonthDay, type(yearMonthDay))\n",
    "print(yearMonth, type(yearMonth))"
   ]
  },
  {
   "cell_type": "code",
   "execution_count": 41,
   "metadata": {},
   "outputs": [
    {
     "name": "stdout",
     "output_type": "stream",
     "text": [
      "Successfully validated:  ['2021', '01']\n"
     ]
    }
   ],
   "source": [
    "for dt in range(0, int(yearMonthDay[2])):\n",
    "    date = yearMonthDay[0] + \"-\" + yearMonthDay[1] + \"-\" + str(dt+1)\n",
    "    # print(date)\n",
    "    unixTimestamp = utils.convertDateToUnixTimestamp(date)\n",
    "    # print(date, unixTimestamp)\n",
    "    if df[\"open-time\"][dt] != unixTimestamp:\n",
    "        print(\"Timestamp validation failure: \", \"File value:\", df[\"open-time\"][dt],\"Validation value:\", unixTimestamp)\n",
    "print(\"Successfully validated: \", yearMonth)"
   ]
  },
  {
   "cell_type": "code",
   "execution_count": null,
   "metadata": {},
   "outputs": [],
   "source": []
  }
 ],
 "metadata": {
  "interpreter": {
   "hash": "916dbcbb3f70747c44a77c7bcd40155683ae19c65e1c03b4aa3499c5328201f1"
  },
  "kernelspec": {
   "display_name": "Python 3.9.7 64-bit",
   "language": "python",
   "name": "python3"
  },
  "language_info": {
   "codemirror_mode": {
    "name": "ipython",
    "version": 3
   },
   "file_extension": ".py",
   "mimetype": "text/x-python",
   "name": "python",
   "nbconvert_exporter": "python",
   "pygments_lexer": "ipython3",
   "version": "3.9.7"
  },
  "orig_nbformat": 4
 },
 "nbformat": 4,
 "nbformat_minor": 2
}
