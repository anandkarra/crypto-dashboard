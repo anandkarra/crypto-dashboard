{
 "cells": [
  {
   "cell_type": "code",
   "execution_count": 1,
   "metadata": {},
   "outputs": [],
   "source": [
    "import pandas as pd\n",
    "import numpy as np\n",
    "\n",
    "import utils"
   ]
  },
  {
   "cell_type": "code",
   "execution_count": 2,
   "metadata": {},
   "outputs": [
    {
     "name": "stdout",
     "output_type": "stream",
     "text": [
      "     open-time     close\n",
      "0   1633046400  48141.61\n",
      "1   1633132800  47634.90\n",
      "2   1633219200  48200.01\n",
      "3   1633305600  49224.94\n",
      "4   1633392000  51471.99\n",
      "5   1633478400  55315.00\n",
      "6   1633564800  53785.22\n",
      "7   1633651200  53951.43\n",
      "8   1633737600  54949.72\n",
      "9   1633824000  54659.00\n",
      "10  1633910400  57471.35\n",
      "11  1633996800  55996.93\n",
      "12  1634083200  57367.00\n",
      "13  1634169600  57347.94\n",
      "14  1634256000  61672.42\n",
      "15  1634342400  60875.57\n",
      "16  1634428800  61528.33\n",
      "17  1634515200  62009.84\n",
      "18  1634601600  64280.59\n",
      "19  1634688000  66001.41\n",
      "20  1634774400  62193.15\n",
      "21  1634860800  60688.22\n",
      "22  1634947200  61286.75\n",
      "23  1635033600  60852.22\n",
      "24  1635120000  63078.78\n",
      "25  1635206400  60328.81\n",
      "26  1635292800  58413.44\n",
      "27  1635379200  60575.89\n",
      "28  1635465600  62253.71\n",
      "29  1635552000  61859.19\n",
      "30  1635638400  61299.80\n"
     ]
    }
   ],
   "source": [
    "df = pd.read_csv ('data/BTCUSDT-1d-2021-10.csv', header=None)\n",
    "\n",
    "df.drop(df.columns[[1,2,3,5,6,7,8,9,10,11]], axis = 1, inplace = True)\n",
    "\n",
    "df.columns = [\"open-time\", \"close\"]\n",
    "\n",
    "df[\"open-time\"] //= 1000\n",
    "\n",
    "print(df)"
   ]
  },
  {
   "cell_type": "code",
   "execution_count": 3,
   "metadata": {},
   "outputs": [
    {
     "name": "stdout",
     "output_type": "stream",
     "text": [
      "1633046400 1635552000\n"
     ]
    }
   ],
   "source": [
    "startDate = \"2021-10-01\"\n",
    "endDate = \"2021-10-30\"\n",
    "\n",
    "startDateUnix = utils.convertDateToUnixTimestamp(startDate)\n",
    "endDateUnix = utils.convertDateToUnixTimestamp(endDate)\n",
    "\n",
    "print(startDateUnix, endDateUnix)"
   ]
  },
  {
   "cell_type": "code",
   "execution_count": 4,
   "metadata": {},
   "outputs": [
    {
     "name": "stdout",
     "output_type": "stream",
     "text": [
      "0 48141.61\n"
     ]
    }
   ],
   "source": [
    "startIdx = np.where(df[\"open-time\"]==startDateUnix)[0][0]\n",
    "startVal = df[\"close\"][startIdx]\n",
    "\n",
    "print(startIdx,startVal)"
   ]
  },
  {
   "cell_type": "code",
   "execution_count": 5,
   "metadata": {},
   "outputs": [
    {
     "name": "stdout",
     "output_type": "stream",
     "text": [
      "29 61859.19\n"
     ]
    }
   ],
   "source": [
    "endIdx = np.where(df[\"open-time\"]==endDateUnix)[0][0]\n",
    "endVal = df[\"close\"][endIdx]\n",
    "\n",
    "print(endIdx,endVal)"
   ]
  },
  {
   "cell_type": "code",
   "execution_count": 6,
   "metadata": {},
   "outputs": [
    {
     "name": "stdout",
     "output_type": "stream",
     "text": [
      "28.49\n"
     ]
    }
   ],
   "source": [
    "diffPercent = 100.0*(endVal-startVal)/startVal\n",
    "\n",
    "print('{:.2f}'.format(diffPercent))"
   ]
  },
  {
   "cell_type": "code",
   "execution_count": null,
   "metadata": {},
   "outputs": [],
   "source": []
  }
 ],
 "metadata": {
  "interpreter": {
   "hash": "916dbcbb3f70747c44a77c7bcd40155683ae19c65e1c03b4aa3499c5328201f1"
  },
  "kernelspec": {
   "display_name": "Python 3.9.7 64-bit",
   "language": "python",
   "name": "python3"
  },
  "language_info": {
   "codemirror_mode": {
    "name": "ipython",
    "version": 3
   },
   "file_extension": ".py",
   "mimetype": "text/x-python",
   "name": "python",
   "nbconvert_exporter": "python",
   "pygments_lexer": "ipython3",
   "version": "3.9.7"
  },
  "orig_nbformat": 4
 },
 "nbformat": 4,
 "nbformat_minor": 2
}
